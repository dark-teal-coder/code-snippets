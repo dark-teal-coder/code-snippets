{
 "cells": [
  {
   "cell_type": "code",
   "execution_count": 1,
   "metadata": {},
   "outputs": [],
   "source": [
    "# os module provides a portable way of using operating system dependent functionality.\n",
    "import os \n",
    "# sys module provides access to some variables used/maintained by the interpreter & \n",
    "# to functions that interact strongly with it. \n",
    "import sys \n",
    "# time module provides various time-related functions. \n",
    "import time "
   ]
  },
  {
   "cell_type": "markdown",
   "metadata": {},
   "source": [
    "Reference: https://docs.python.org/2/library/os.html"
   ]
  },
  {
   "cell_type": "code",
   "execution_count": 9,
   "metadata": {},
   "outputs": [
    {
     "name": "stdout",
     "output_type": "stream",
     "text": [
      "Please input the path: C:\\Users\\Asus\\WorkspaceJupyter\\New folder\\NonEmptyFolder1\n"
     ]
    }
   ],
   "source": [
    "path = input(\"Please input the path: \")"
   ]
  },
  {
   "cell_type": "code",
   "execution_count": 10,
   "metadata": {},
   "outputs": [
    {
     "data": {
      "text/plain": [
       "['file1.txt', 'file2.txt']"
      ]
     },
     "execution_count": 10,
     "metadata": {},
     "output_type": "execute_result"
    }
   ],
   "source": [
    "# listdir() returns a list containing the names of the entries in the directory given by path parameter\n",
    "os.listdir(path)"
   ]
  },
  {
   "cell_type": "code",
   "execution_count": 3,
   "metadata": {},
   "outputs": [],
   "source": [
    "def remove(path):\n",
    "\t\"\"\"\n",
    "\tRemove an empty directory or file\n",
    "\t\"\"\"\n",
    "\tif os.path.isdir(path):\n",
    "\t\tprint(path, \"is a directory.\")\n",
    "\t\ttry:\n",
    "\t\t\tos.rmdir(path)\n",
    "\t\t\tprint(\"The empty folder removed.\")\n",
    "\t\texcept OSError:\n",
    "\t\t\tprint(\"Unable to remove the folder: {0:s}\".format(path))\n",
    "\t\t\t# logger.fatal(\"Unable to remove the folder: {0:s}\".format(path), exc_info=True)\n",
    "\telse:\n",
    "\t\tprint(path, \"is not a directory.\")\n",
    "\t\ttry:\n",
    "\t\t\tif os.path.exists(path):\n",
    "\t\t\t\tprint(\"The file exists.\")\n",
    "\t\t\t\tos.remove(path)\n",
    "\t\t\t\tprint(\"The file removed.\")\n",
    "\t\texcept OSError:\n",
    "\t\t\tprint(\"Unable to remove the file: {0:s}\".format(path))\n",
    "\t\t\t# logger.fatal(\"Unable to remove the file: {0:s}\".format(path), exc_info=True)"
   ]
  },
  {
   "cell_type": "code",
   "execution_count": 11,
   "metadata": {},
   "outputs": [
    {
     "name": "stdout",
     "output_type": "stream",
     "text": [
      "C:\\Users\\Asus\\WorkspaceJupyter\\New folder\\NonEmptyFolder1 is a directory.\n",
      "Unable to remove the folder: C:\\Users\\Asus\\WorkspaceJupyter\\New folder\\NonEmptyFolder1\n"
     ]
    }
   ],
   "source": [
    "remove(path)"
   ]
  },
  {
   "cell_type": "code",
   "execution_count": 4,
   "metadata": {},
   "outputs": [
    {
     "name": "stdout",
     "output_type": "stream",
     "text": [
      "Command line argument #0: C:\\Users\\Asus\\Anaconda3\\lib\\site-packages\\ipykernel_launcher.py\n",
      "Command line argument #1: -f\n",
      "Command line argument #2: C:\\Users\\Asus\\AppData\\Roaming\\jupyter\\runtime\\kernel-9c944498-a268-4eee-9518-686ce153af0e.json\n"
     ]
    }
   ],
   "source": [
    "# Command line arguments\n",
    "for i in range(len(sys.argv)):\n",
    "\tprint(\"Command line argument #\", i, \": \", sys.argv[i], sep=\"\")"
   ]
  },
  {
   "cell_type": "code",
   "execution_count": 5,
   "metadata": {},
   "outputs": [],
   "source": [
    "def cleanup(number_of_days, path):\n",
    "\t\"\"\"\n",
    "\tRemoves files from the passed in path that are older than or equal to the number_of_days\n",
    "\t\"\"\"\n",
    "\t# The time() function returns the number of seconds passed since epoch (the point where time begins). \n",
    "\ttime_in_secs = time.time() - (number_of_days * 24 * 60 * 60) # time.time() is current time\n",
    "\tfor root, dirs, files in os.walk(path, topdown=False):\n",
    "\t\t# walk() to walk through the directories\n",
    "\t\tfor file in files:\n",
    "\t\t\tfull_path = os.path.join(root, file)\n",
    "\t\t\tstat = os.stat(full_path)\n",
    " \n",
    "\t\t\tif stat.st_mtime <= time_in_secs: # stat.st_mtime: time of last modification\n",
    "\t\t\t\tremove(full_path)\n",
    " \n",
    "\t\tif not os.listdir(root):\n",
    "\t\t\tremove(root)"
   ]
  },
  {
   "cell_type": "code",
   "execution_count": null,
   "metadata": {},
   "outputs": [],
   "source": [
    "if __name__ == \"__main__\":\n",
    "\tdays, path = int(sys.argv[1]), sys.argv[2]\n",
    "\tcleanup(days, path)"
   ]
  }
 ],
 "metadata": {
  "kernelspec": {
   "display_name": "Python 3 (ipykernel)",
   "language": "python",
   "name": "python3"
  },
  "language_info": {
   "codemirror_mode": {
    "name": "ipython",
    "version": 3
   },
   "file_extension": ".py",
   "mimetype": "text/x-python",
   "name": "python",
   "nbconvert_exporter": "python",
   "pygments_lexer": "ipython3",
   "version": "3.8.12"
  }
 },
 "nbformat": 4,
 "nbformat_minor": 2
}
