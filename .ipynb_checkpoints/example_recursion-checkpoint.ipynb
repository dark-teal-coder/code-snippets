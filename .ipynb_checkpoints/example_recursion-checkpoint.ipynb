{
 "cells": [
  {
   "cell_type": "markdown",
   "id": "da06c10f",
   "metadata": {},
   "source": [
    "# Defining Recursion "
   ]
  },
  {
   "cell_type": "markdown",
   "id": "f49b9e90",
   "metadata": {},
   "source": [
    "> *Definition*: Recursion is the repeated application of the same procedure to a smaller problem."
   ]
  },
  {
   "cell_type": "markdown",
   "id": "4d329e3a",
   "metadata": {},
   "source": [
    "In programming, recursion is a way of doing a repetitive task by having a function call itself with a modified parameter until it reaches a specific condition. This condition is called base case. \n",
    "\n",
    "A recursive function must include a recursive case and base case. The recursive case calls the function again, with a different value. The base case returns a value without calling the same function."
   ]
  },
  {
   "cell_type": "markdown",
   "id": "0fda6afe",
   "metadata": {},
   "source": [
    "Recursive Function Structure: \n",
    "\n",
    "```\n",
    "def recursive_function(parameters):\n",
    "    if base_case_condition(parameters):\n",
    "        return base_case_value\n",
    "    recursive_function(modified_parameters)\n",
    "```"
   ]
  },
  {
   "cell_type": "markdown",
   "id": "80d60f7d",
   "metadata": {},
   "source": [
    "# Examples of Recursions in Python"
   ]
  },
  {
   "cell_type": "code",
   "execution_count": 1,
   "id": "03000794",
   "metadata": {},
   "outputs": [],
   "source": [
    "def sum_positive_integers(num):\n",
    "    '''This function uses recursion to sum all the positive numbers of the input number at parameter 1.'''\n",
    "    if num < 1:\n",
    "        return 0\n",
    "    ## The recursive case is adding this number to the sum of the numbers smaller than this one.\n",
    "    return num + sum_positive_integers(num - 1)"
   ]
  },
  {
   "cell_type": "code",
   "execution_count": 2,
   "id": "d9ada29d",
   "metadata": {},
   "outputs": [
    {
     "name": "stdout",
     "output_type": "stream",
     "text": [
      "6\n",
      "15\n"
     ]
    }
   ],
   "source": [
    "print(sum_positive_integers(3)) # Output: 6\n",
    "print(sum_positive_integers(5)) # Output: 15"
   ]
  },
  {
   "cell_type": "code",
   "execution_count": 3,
   "id": "d56b89bf",
   "metadata": {},
   "outputs": [],
   "source": [
    "def factorial(num): \n",
    "    print(f\"Factorial called with {str(num)}\")\n",
    "    if num < 2: \n",
    "        print(\"Returning 1\")\n",
    "        return 1\n",
    "    print(f\"Returning {str(result)} for factorial of {str(num)}\")\n",
    "    return num * factorial(num - 1)"
   ]
  },
  {
   "cell_type": "code",
   "execution_count": 4,
   "id": "70cd5989",
   "metadata": {},
   "outputs": [
    {
     "name": "stdout",
     "output_type": "stream",
     "text": [
      "Factorial called with 5\n",
      "Factorial called with 4\n",
      "Factorial called with 3\n",
      "Factorial called with 2\n",
      "Factorial called with 1\n",
      "Returning 1\n",
      "Returning 2 for factorial of 2\n",
      "Returning 6 for factorial of 3\n",
      "Returning 24 for factorial of 4\n",
      "Returning 120 for factorial of 5\n"
     ]
    },
    {
     "data": {
      "text/plain": [
       "120"
      ]
     },
     "execution_count": 4,
     "metadata": {},
     "output_type": "execute_result"
    }
   ],
   "source": [
    "factorial(5)"
   ]
  },
  {
   "cell_type": "markdown",
   "id": "f3b663b7",
   "metadata": {},
   "source": [
    "## When to Use Recursion"
   ]
  },
  {
   "cell_type": "markdown",
   "id": "d6c796da",
   "metadata": {},
   "source": [
    "We can use loops to do the tasks recursion does but it will be easier to write and understand recursive functions in some cases. Many mathematical functions are already defined in recursive terms so it is more intuitive to write the code as a recursive function. It is also useful in IT contexts as well. For example, if we want to go through directories and calculate the number of files contained in each. When listing the files inside a directory, we may find sub-directories inside them and want to count the files inside those sub-directories inside them as well. This is a great time to use recursion. The base case would be a directory with no sub-directories. The function will simply return the amount of files inside it. The recursive case would be calling the recursive function for each of the contained sub-directories. The function will return the sum of all files in that directory and of all files in the contained sub-directories. "
   ]
  },
  {
   "cell_type": "markdown",
   "id": "cd995c4a",
   "metadata": {},
   "source": [
    "## Limitation"
   ]
  },
  {
   "cell_type": "markdown",
   "id": "155d98e2",
   "metadata": {},
   "source": [
    "In Python, there is a maximun recursion depth. If we use recursion over it, we will receive a ```RecursionError```. According to [Python's Built-in Exceptions Documentation](https://docs.python.org/3/library/exceptions.html), we can use ```getrecursionlimit()``` to find the maximum recursion depth. See below. \n",
    "\n",
    "```python\n",
    "import sys\n",
    "sys.getrecursionlimit()\n",
    "```"
   ]
  },
  {
   "cell_type": "code",
   "execution_count": null,
   "id": "818b054b",
   "metadata": {},
   "outputs": [],
   "source": []
  }
 ],
 "metadata": {
  "kernelspec": {
   "display_name": "Python 3 (ipykernel)",
   "language": "python",
   "name": "python3"
  },
  "language_info": {
   "codemirror_mode": {
    "name": "ipython",
    "version": 3
   },
   "file_extension": ".py",
   "mimetype": "text/x-python",
   "name": "python",
   "nbconvert_exporter": "python",
   "pygments_lexer": "ipython3",
   "version": "3.8.12"
  }
 },
 "nbformat": 4,
 "nbformat_minor": 5
}
