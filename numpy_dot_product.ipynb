{
  "cells": [
    {
      "cell_type": "markdown",
      "metadata": {
        "id": "_aGIv2Qbqggk"
      },
      "source": [
        "[![Open In Colab](https://colab.research.google.com/assets/colab-badge.svg)](https://colab.research.google.com/github/dark-teal-coder/code-snippets/blob/main/numpy_dot_product.ipynb)"
      ]
    },
    {
      "cell_type": "markdown",
      "metadata": {
        "id": "KfrT1l3Wqggp"
      },
      "source": [
        "# Dot Product Using NumPy"
      ]
    },
    {
      "cell_type": "markdown",
      "metadata": {
        "id": "W214ch-pqggq"
      },
      "source": [
        "The performance of machine learning and deep learning models is highly dependent on the amount of data. A huge amount of data is needed in order to build such a robust and accurate model. As the amount of data grows, we need vectorized or matrix operations to make computations efficient. In Python, dot product can be realized using the NumPy library. "
      ]
    },
    {
      "cell_type": "markdown",
      "metadata": {
        "id": "dnRxEn2Iqggq"
      },
      "source": [
        "> *Definition*: The **dot product** of two vectors is the sum of the products of elements with regards to position. "
      ]
    },
    {
      "cell_type": "markdown",
      "metadata": {
        "id": "MO9Qx7c6qggr"
      },
      "source": [
        "Before entering into NumPy, it is essential to understand the basic dot product operations in matrix form in mathematical terms. See the illustration below. "
      ]
    },
    {
      "cell_type": "markdown",
      "metadata": {
        "id": "xld2itSzqggr"
      },
      "source": [
        "<!---\n",
        "![Basic dot product rules](https://user-images.githubusercontent.com/95575665/167859350-834cbb79-823a-4a3e-95a8-f4cff593faf9.jpg)\n",
        "--->\n",
        "<p align=\"center\">\n",
        "<img src=\"https://user-images.githubusercontent.com/95575665/167859350-834cbb79-823a-4a3e-95a8-f4cff593faf9.jpg\" alt=\"Basic dot product rules\" width=\"480\" height=\"360\">\n",
        "</p>"
      ]
    },
    {
      "cell_type": "markdown",
      "metadata": {
        "id": "EqdwK4tCqggs"
      },
      "source": [
        "The following section will demonstrate how dot product can be done with `np.dot()` in NumPy. "
      ]
    },
    {
      "cell_type": "code",
      "execution_count": 1,
      "metadata": {
        "id": "QfGwQ4Bmqggt"
      },
      "outputs": [],
      "source": [
        "import numpy as np"
      ]
    },
    {
      "cell_type": "markdown",
      "metadata": {
        "id": "lMuSagqZqggu"
      },
      "source": [
        "## Vectors"
      ]
    },
    {
      "cell_type": "markdown",
      "metadata": {
        "id": "8RnARM09qggv"
      },
      "source": [
        "Let's first create two simple vectors in the form of NumPy arrays and calculate their dot product."
      ]
    },
    {
      "cell_type": "code",
      "execution_count": 2,
      "metadata": {
        "id": "k7Y-zzIjqggw"
      },
      "outputs": [],
      "source": [
        "## Create 2 numeric NumPy arrays to represent the two vectors\n",
        "a = np.array([1, 2, 3])\n",
        "b = np.array([4, 5, 6])"
      ]
    },
    {
      "cell_type": "code",
      "execution_count": 3,
      "metadata": {
        "colab": {
          "base_uri": "https://localhost:8080/"
        },
        "id": "9OFiRojoqggw",
        "outputId": "23d91e2d-5276-41a6-822d-332c7f72da95"
      },
      "outputs": [
        {
          "output_type": "stream",
          "name": "stdout",
          "text": [
            "[1 2 3]\n",
            "[4 5 6]\n"
          ]
        }
      ],
      "source": [
        "## Show the representation of the arrays\n",
        "print(a, b, sep=\"\\n\")"
      ]
    },
    {
      "cell_type": "code",
      "execution_count": 4,
      "metadata": {
        "colab": {
          "base_uri": "https://localhost:8080/"
        },
        "id": "9duRoGAMqggx",
        "outputId": "9de34813-8c11-4e72-ff73-0ed946076ae0"
      },
      "outputs": [
        {
          "output_type": "execute_result",
          "data": {
            "text/plain": [
              "32"
            ]
          },
          "metadata": {},
          "execution_count": 4
        }
      ],
      "source": [
        "## Dot product of the 2 arrays\n",
        "np.dot(a, b)"
      ]
    },
    {
      "cell_type": "markdown",
      "metadata": {
        "id": "yLygDJX9qggx"
      },
      "source": [
        "The dot product is calculated as follows:"
      ]
    },
    {
      "cell_type": "code",
      "execution_count": 5,
      "metadata": {
        "colab": {
          "base_uri": "https://localhost:8080/"
        },
        "id": "gPfKpYZsqggy",
        "outputId": "f73da816-22a8-49f1-ef51-2933aac3e7b1"
      },
      "outputs": [
        {
          "output_type": "execute_result",
          "data": {
            "text/plain": [
              "32"
            ]
          },
          "metadata": {},
          "execution_count": 5
        }
      ],
      "source": [
        "a[0]*b[0] + a[1]*b[1] + a[2]*b[2]"
      ]
    },
    {
      "cell_type": "markdown",
      "metadata": {
        "id": "ardNERMkqggy"
      },
      "source": [
        "Since we multiply elements at the same positions, the two vectors must have same length in order to have a dot product. "
      ]
    },
    {
      "cell_type": "markdown",
      "metadata": {
        "id": "-shFpByLqggy"
      },
      "source": [
        "## Matrices "
      ]
    },
    {
      "cell_type": "markdown",
      "metadata": {
        "id": "v-y297Kyqggy"
      },
      "source": [
        "In the field of data science, we mostly deal with matrices. A matrix contains row and column vectors combined in a structured way. Thus, multiplication of two matrices involves many dot product operations of vectors. "
      ]
    },
    {
      "cell_type": "markdown",
      "metadata": {
        "id": "pQf4oYGjqggz"
      },
      "source": [
        "Let's create two 2x2 matrices with NumPy and calculate their dot product."
      ]
    },
    {
      "cell_type": "code",
      "execution_count": 6,
      "metadata": {
        "id": "P7iLyypHqggz"
      },
      "outputs": [],
      "source": [
        "## Create 2 numeric NumPy arrays to represent the two 2x2 matrices \n",
        "a_m2n2 = np.random.randint(10, size=(2, 2))\n",
        "b_m2n2 = np.random.randint(10, size=(2, 2))"
      ]
    },
    {
      "cell_type": "code",
      "execution_count": 7,
      "metadata": {
        "colab": {
          "base_uri": "https://localhost:8080/"
        },
        "id": "sObrYUs4qggz",
        "outputId": "32191c8f-58ae-411e-bc68-1d98a4f9f93c"
      },
      "outputs": [
        {
          "output_type": "stream",
          "name": "stdout",
          "text": [
            "[[8 7]\n",
            " [8 0]]\n",
            "[[8 2]\n",
            " [6 6]]\n"
          ]
        }
      ],
      "source": [
        "## Show the representation of the arrays\n",
        "print(a_m2n2, b_m2n2, sep=\"\\n\")"
      ]
    },
    {
      "cell_type": "markdown",
      "metadata": {
        "id": "Fen3nHVJqgg0"
      },
      "source": [
        "A 2x2 matrix has 2 rows and 2 columns. Index of rows and columns start with 0. For instance, the first row of `a_m2n2` (row with index 0) is the array of `[9, 3]`. The first column of A is the array of `[9, 5]`. The element at first row and first column is `9`. We can access individual rows, columns, or elements with the following numpy syntax."
      ]
    },
    {
      "cell_type": "code",
      "execution_count": 8,
      "metadata": {
        "colab": {
          "base_uri": "https://localhost:8080/"
        },
        "id": "XAz0KH5cqgg0",
        "outputId": "60309095-3c57-4142-a3e4-9720b94df77e"
      },
      "outputs": [
        {
          "output_type": "execute_result",
          "data": {
            "text/plain": [
              "array([8, 7])"
            ]
          },
          "metadata": {},
          "execution_count": 8
        }
      ],
      "source": [
        "## First row \n",
        "a_m2n2[0]"
      ]
    },
    {
      "cell_type": "code",
      "execution_count": 9,
      "metadata": {
        "colab": {
          "base_uri": "https://localhost:8080/"
        },
        "id": "KlTBVeGeqgg0",
        "outputId": "ff963b1e-07ca-4726-c6fd-d8325ce7842b"
      },
      "outputs": [
        {
          "output_type": "execute_result",
          "data": {
            "text/plain": [
              "array([8, 8])"
            ]
          },
          "metadata": {},
          "execution_count": 9
        }
      ],
      "source": [
        "## First column \n",
        "a_m2n2[:,0]"
      ]
    },
    {
      "cell_type": "code",
      "execution_count": 10,
      "metadata": {
        "colab": {
          "base_uri": "https://localhost:8080/"
        },
        "id": "1X6uZv-Wqgg1",
        "outputId": "8551d54a-caa3-419a-b39e-38ecaa40b287"
      },
      "outputs": [
        {
          "output_type": "execute_result",
          "data": {
            "text/plain": [
              "8"
            ]
          },
          "metadata": {},
          "execution_count": 10
        }
      ],
      "source": [
        "## First row, first column \n",
        "a_m2n2[0, 0]"
      ]
    },
    {
      "cell_type": "markdown",
      "metadata": {
        "id": "U6MdnIIAqgg1"
      },
      "source": [
        "The dot product operation follows the same orders as in mathematics. "
      ]
    },
    {
      "cell_type": "code",
      "execution_count": 11,
      "metadata": {
        "colab": {
          "base_uri": "https://localhost:8080/"
        },
        "id": "OzTfUDY1qgg1",
        "outputId": "c34e411b-9034-4521-84fe-a38dd98f7541"
      },
      "outputs": [
        {
          "output_type": "execute_result",
          "data": {
            "text/plain": [
              "array([[106,  58],\n",
              "       [ 64,  16]])"
            ]
          },
          "metadata": {},
          "execution_count": 11
        }
      ],
      "source": [
        "## Dot product of the 2 arrays\n",
        "np.dot(a_m2n2, b_m2n2)"
      ]
    },
    {
      "cell_type": "markdown",
      "metadata": {
        "id": "eOsDYyitqgg1"
      },
      "source": [
        "The requirement for matrix multiplication is that the number of columns of the first matrix must be equal to the number of rows of the second matrix."
      ]
    },
    {
      "cell_type": "markdown",
      "metadata": {
        "id": "o6Wr_xcVqgg2"
      },
      "source": [
        "Let's try to multiply a 3x2 matrix with a 2x3 matrix."
      ]
    },
    {
      "cell_type": "code",
      "execution_count": 12,
      "metadata": {
        "id": "BZkXKV2Dqgg2"
      },
      "outputs": [],
      "source": [
        "## Create 2 numeric NumPy arrays to represent the two 2x2 matrices \n",
        "a_m3n2 = np.random.randint(10, size=(3, 2))\n",
        "b_m2n3 = np.random.randint(10, size=(2, 3))"
      ]
    },
    {
      "cell_type": "code",
      "execution_count": 13,
      "metadata": {
        "colab": {
          "base_uri": "https://localhost:8080/"
        },
        "id": "xZfB7O8fqgg2",
        "outputId": "3b5897ed-b050-4fb7-fb12-71291a18aff6"
      },
      "outputs": [
        {
          "output_type": "stream",
          "name": "stdout",
          "text": [
            "[[9 2]\n",
            " [0 8]\n",
            " [8 5]]\n",
            "[[7 3 4]\n",
            " [1 4 6]]\n"
          ]
        }
      ],
      "source": [
        "## Show the representation of the arrays\n",
        "print(a_m3n2, b_m2n3, sep=\"\\n\")"
      ]
    },
    {
      "cell_type": "code",
      "execution_count": 14,
      "metadata": {
        "colab": {
          "base_uri": "https://localhost:8080/"
        },
        "id": "_fTFlnTNqgg2",
        "outputId": "85c22ef5-632f-4afd-c1f1-b5bb77b3c6d1"
      },
      "outputs": [
        {
          "output_type": "execute_result",
          "data": {
            "text/plain": [
              "array([[65, 35, 48],\n",
              "       [ 8, 32, 48],\n",
              "       [61, 44, 62]])"
            ]
          },
          "metadata": {},
          "execution_count": 14
        }
      ],
      "source": [
        "## Dot product of the 2 arrays\n",
        "np.dot(a_m3n2, b_m2n3)"
      ]
    },
    {
      "cell_type": "markdown",
      "metadata": {
        "id": "GSq-oTXqqgg3"
      },
      "source": [
        "If the requirement for matrix multiplication is not met, `ValueError` will be raised. Consider the following example: "
      ]
    },
    {
      "cell_type": "code",
      "execution_count": 15,
      "metadata": {
        "colab": {
          "base_uri": "https://localhost:8080/"
        },
        "id": "Uh9pthhKqgg3",
        "outputId": "0984cf81-8e57-4ca2-d33c-c5d156ea1264"
      },
      "outputs": [
        {
          "output_type": "stream",
          "name": "stdout",
          "text": [
            "[[7 4 3]\n",
            " [5 3 2]\n",
            " [0 9 2]\n",
            " [9 0 6]]\n",
            "[[5 3 4]\n",
            " [4 4 0]\n",
            " [8 4 0]\n",
            " [8 0 1]]\n",
            "Matrix multiplication fails.\n"
          ]
        }
      ],
      "source": [
        "## Both are 3x2 matrices\n",
        "a_m4n3 = np.random.randint(10, size=(4, 3))\n",
        "b_m4n3 = np.random.randint(10, size=(4, 3))\n",
        "print(a_m4n3, b_m4n3, sep=\"\\n\")\n",
        "try: \n",
        "\tprint(np.dot(a_m4n3, b_m4n3))\n",
        "except ValueError: \n",
        "\tprint(\"Matrix multiplication fails.\")"
      ]
    },
    {
      "cell_type": "markdown",
      "metadata": {
        "id": "LboNcZ0wqgg3"
      },
      "source": [
        "Error message: "
      ]
    },
    {
      "cell_type": "markdown",
      "metadata": {
        "id": "x_vCJBo6qgg3"
      },
      "source": [
        "<p align=\"center\">\n",
        "<img src=\"https://user-images.githubusercontent.com/95575665/167895037-2db7def2-9bf9-4776-afbe-96ee5d7fcd4a.png\" alt=\"Basic dot product rules\" width=\"852\" height=\"480\">\n",
        "</p>"
      ]
    },
    {
      "cell_type": "markdown",
      "metadata": {
        "id": "Uv1c2DV-qgg4"
      },
      "source": [
        "We have covered basic dot production and matrix multiplication concepts above. These basic operations are the building blocks of complex machine learning and deep learning models. Thus, it is highly important to understand them."
      ]
    },
    {
      "cell_type": "markdown",
      "metadata": {
        "id": "SmF42tUHqgg4"
      },
      "source": [
        "For more information on `numpy.dot()`, see [the official documentation](https://numpy.org/doc/stable/reference/generated/numpy.dot.html)."
      ]
    }
  ],
  "metadata": {
    "interpreter": {
      "hash": "2011e8f1b66e4ca782a16183c079a9a8ceaa771eb94b3143f514bb5560527e59"
    },
    "kernelspec": {
      "display_name": "Python 3.8.12 ('base')",
      "language": "python",
      "name": "python3"
    },
    "language_info": {
      "codemirror_mode": {
        "name": "ipython",
        "version": 3
      },
      "file_extension": ".py",
      "mimetype": "text/x-python",
      "name": "python",
      "nbconvert_exporter": "python",
      "pygments_lexer": "ipython3",
      "version": "3.8.12"
    },
    "orig_nbformat": 4,
    "colab": {
      "name": "numpy_dot_product.ipynb",
      "provenance": []
    }
  },
  "nbformat": 4,
  "nbformat_minor": 0
}