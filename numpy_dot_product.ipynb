{
 "cells": [
  {
   "cell_type": "markdown",
   "metadata": {},
   "source": [
    "<img src=\"https://raw.githubusercontent.com/dark-teal-coder/dark-teal-coder/main/images/coder-no-background-000-128-128.png\" alt=\"coder-black-background-000-128-128.png\" width=\"100\" height=\"100\" align=\"right\" style=\"margin:0px 5%\">\n",
    "\n",
    "<table style=\"width: 30%; border: none;\">\n",
    "\t<tr>\n",
    "    \t<th style=\"text-align:left\">GitHub:</th>\n",
    "    \t<td><a href=\"https://github.com/dark-teal-coder\">@dark-teal-coder</a></td>\n",
    "\t</tr>\n",
    "\t<tr>\n",
    "    \t<th style=\"text-align:left\">First Published Date:</th>\n",
    "\t\t<td>2022-05-12</td>\n",
    "\t</tr>\n",
    "</table>\n"
   ]
  },
  {
   "cell_type": "markdown",
   "metadata": {},
   "source": [
    "___"
   ]
  },
  {
   "cell_type": "markdown",
   "metadata": {},
   "source": [
    "\n",
    "<table style=\"width: 45%; border: none; background-color: rgba(255, 255, 255, 0);\">\n",
    "\t<tr>\n",
    "\t\t<th rowspan=\"2\"><img src=\"https://raw.githubusercontent.com/dark-teal-coder/dark-teal-coder/main/images/coder-no-background-000-128-128.png\" alt=\"coder-black-background-000-128-128.png\" width=\"100\" height=\"100\" style=\"margin:0px 5%\"></th>\n",
    "\t\t<th style=\"text-align:left\">GitHub:</th>\n",
    "\t\t<td><a href=\"https://github.com/dark-teal-coder\">@dark-teal-coder</a></td>\n",
    "\t</tr>\n",
    "\t<tr>\n",
    "\t\t<th style=\"text-align:left\">First Published Date:</th>\n",
    "\t\t<td>2022-05-12</td>\n",
    "\t</tr>\n",
    "</table>"
   ]
  },
  {
   "cell_type": "markdown",
   "metadata": {},
   "source": [
    "___"
   ]
  },
  {
   "cell_type": "markdown",
   "metadata": {},
   "source": [
    "<img src=\"https://raw.githubusercontent.com/dark-teal-coder/dark-teal-coder/main/images/coder-no-background-000-128-128.png\" alt=\"coder-black-background-000-128-128.png\" width=\"100\" height=\"100\" align=\"right\" style=\"margin:0px 5%\">\n",
    "<p align=\"right\">\n",
    "GitHub: <a href=\"https://github.com/dark-teal-coder\">@dark-teal-coder</a>\n",
    "<br />\n",
    "First Published Date: 2022-05-12\n",
    "</p>"
   ]
  },
  {
   "cell_type": "markdown",
   "metadata": {},
   "source": [
    "___"
   ]
  },
  {
   "cell_type": "markdown",
   "metadata": {},
   "source": [
    "<img src=\"https://raw.githubusercontent.com/dark-teal-coder/dark-teal-coder/main/images/coder-no-background-000-128-128.png\" alt=\"coder-black-background-000-128-128.png\" width=\"100\" height=\"100\" align=\"right\" style=\"margin: 0px 5%; vertical-align: middle;\">\n",
    "<div style='vertical-align: middle; display: inline;'>\n",
    "<p align=\"right\">\n",
    "GitHub: <a href=\"https://github.com/dark-teal-coder\">@dark-teal-coder</a>\n",
    "<br />\n",
    "First Published Date: 2022-05-12\n",
    "</p>\n",
    "</div>"
   ]
  },
  {
   "cell_type": "markdown",
   "metadata": {},
   "source": [
    "___"
   ]
  },
  {
   "cell_type": "markdown",
   "metadata": {},
   "source": [
    "[![Open In Colab](https://colab.research.google.com/assets/colab-badge.svg)](https://colab.research.google.com/github/dark-teal-coder/code-snippets/blob/main/numpy_dot_product.ipynb)"
   ]
  },
  {
   "cell_type": "markdown",
   "metadata": {},
   "source": [
    "# Dot Product Using NumPy"
   ]
  },
  {
   "cell_type": "markdown",
   "metadata": {},
   "source": [
    "The performance of machine learning and deep learning models is highly dependent on the amount of data. A huge amount of data is needed in order to build such a robust and accurate model. As the amount of data grows, we need vectorized or matrix operations to make computations efficient. In Python, dot product can be realized using the NumPy library. "
   ]
  },
  {
   "cell_type": "markdown",
   "metadata": {},
   "source": [
    "> *Definition*: The **dot product** of two vectors is the sum of the products of elements with regards to position. "
   ]
  },
  {
   "cell_type": "markdown",
   "metadata": {},
   "source": [
    "Before entering into NumPy, it is essential to understand the basic dot product operations in matrix form in mathematical terms. See the illustration below. "
   ]
  },
  {
   "cell_type": "markdown",
   "metadata": {},
   "source": [
    "<!---\n",
    "![Basic dot product rules](https://user-images.githubusercontent.com/95575665/167859350-834cbb79-823a-4a3e-95a8-f4cff593faf9.jpg)\n",
    "--->\n",
    "<p align=\"center\">\n",
    "<img src=\"https://user-images.githubusercontent.com/95575665/167859350-834cbb79-823a-4a3e-95a8-f4cff593faf9.jpg\" alt=\"Basic dot product rules\" width=\"480\" height=\"360\">\n",
    "</p>"
   ]
  },
  {
   "cell_type": "markdown",
   "metadata": {},
   "source": [
    "The following section will demonstrate how dot product can be done with `np.dot()` in NumPy. "
   ]
  },
  {
   "cell_type": "code",
   "execution_count": 1,
   "metadata": {},
   "outputs": [],
   "source": [
    "import numpy as np"
   ]
  },
  {
   "cell_type": "markdown",
   "metadata": {},
   "source": [
    "## Vectors"
   ]
  },
  {
   "cell_type": "markdown",
   "metadata": {},
   "source": [
    "Let's first create two simple vectors in the form of NumPy arrays and calculate their dot product."
   ]
  },
  {
   "cell_type": "code",
   "execution_count": 2,
   "metadata": {},
   "outputs": [],
   "source": [
    "## Create 2 numeric NumPy arrays to represent the two vectors\n",
    "a = np.array([1, 2, 3])\n",
    "b = np.array([4, 5, 6])"
   ]
  },
  {
   "cell_type": "code",
   "execution_count": 3,
   "metadata": {},
   "outputs": [
    {
     "name": "stdout",
     "output_type": "stream",
     "text": [
      "[1 2 3]\n",
      "[4 5 6]\n"
     ]
    }
   ],
   "source": [
    "## Show the representation of the arrays\n",
    "print(a, b, sep=\"\\n\")"
   ]
  },
  {
   "cell_type": "code",
   "execution_count": 4,
   "metadata": {},
   "outputs": [
    {
     "data": {
      "text/plain": [
       "32"
      ]
     },
     "execution_count": 4,
     "metadata": {},
     "output_type": "execute_result"
    }
   ],
   "source": [
    "## Dot product of the 2 arrays\n",
    "np.dot(a, b)"
   ]
  },
  {
   "cell_type": "markdown",
   "metadata": {},
   "source": [
    "The dot product is calculated as follows:"
   ]
  },
  {
   "cell_type": "code",
   "execution_count": 5,
   "metadata": {},
   "outputs": [
    {
     "data": {
      "text/plain": [
       "32"
      ]
     },
     "execution_count": 5,
     "metadata": {},
     "output_type": "execute_result"
    }
   ],
   "source": [
    "a[0]*b[0] + a[1]*b[1] + a[2]*b[2]"
   ]
  },
  {
   "cell_type": "markdown",
   "metadata": {},
   "source": [
    "Since we multiply elements at the same positions, the two vectors must have same length in order to have a dot product. "
   ]
  },
  {
   "cell_type": "markdown",
   "metadata": {},
   "source": [
    "## Matrices "
   ]
  },
  {
   "cell_type": "markdown",
   "metadata": {},
   "source": [
    "In the field of data science, we mostly deal with matrices. A matrix contains row and column vectors combined in a structured way. Thus, multiplication of two matrices involves many dot product operations of vectors. "
   ]
  },
  {
   "cell_type": "markdown",
   "metadata": {},
   "source": [
    "Let's create two 2x2 matrices with NumPy and calculate their dot product."
   ]
  },
  {
   "cell_type": "code",
   "execution_count": 6,
   "metadata": {},
   "outputs": [],
   "source": [
    "## Create 2 numeric NumPy arrays to represent the two 2x2 matrices \n",
    "a_m2n2 = np.random.randint(10, size=(2, 2))\n",
    "b_m2n2 = np.random.randint(10, size=(2, 2))"
   ]
  },
  {
   "cell_type": "code",
   "execution_count": 7,
   "metadata": {},
   "outputs": [
    {
     "name": "stdout",
     "output_type": "stream",
     "text": [
      "[[9 4]\n",
      " [9 3]]\n",
      "[[9 6]\n",
      " [9 3]]\n"
     ]
    }
   ],
   "source": [
    "## Show the representation of the arrays\n",
    "print(a_m2n2, b_m2n2, sep=\"\\n\")"
   ]
  },
  {
   "cell_type": "markdown",
   "metadata": {},
   "source": [
    "A 2x2 matrix has 2 rows and 2 columns. Index of rows and columns start with 0. For instance, the first row of `a_m2n2` (row with index 0) is the array of `[9, 3]`. The first column of A is the array of `[9, 5]`. The element at first row and first column is `9`. We can access individual rows, columns, or elements with the following numpy syntax."
   ]
  },
  {
   "cell_type": "code",
   "execution_count": 8,
   "metadata": {},
   "outputs": [
    {
     "data": {
      "text/plain": [
       "array([9, 4])"
      ]
     },
     "execution_count": 8,
     "metadata": {},
     "output_type": "execute_result"
    }
   ],
   "source": [
    "## First row \n",
    "a_m2n2[0]"
   ]
  },
  {
   "cell_type": "code",
   "execution_count": 9,
   "metadata": {},
   "outputs": [
    {
     "data": {
      "text/plain": [
       "array([9, 9])"
      ]
     },
     "execution_count": 9,
     "metadata": {},
     "output_type": "execute_result"
    }
   ],
   "source": [
    "## First column \n",
    "a_m2n2[:,0]"
   ]
  },
  {
   "cell_type": "code",
   "execution_count": 10,
   "metadata": {},
   "outputs": [
    {
     "data": {
      "text/plain": [
       "9"
      ]
     },
     "execution_count": 10,
     "metadata": {},
     "output_type": "execute_result"
    }
   ],
   "source": [
    "## First row, first column \n",
    "a_m2n2[0, 0]"
   ]
  },
  {
   "cell_type": "markdown",
   "metadata": {},
   "source": [
    "The dot product operation follows the same orders as in mathematics. "
   ]
  },
  {
   "cell_type": "code",
   "execution_count": 11,
   "metadata": {},
   "outputs": [
    {
     "data": {
      "text/plain": [
       "array([[117,  66],\n",
       "       [108,  63]])"
      ]
     },
     "execution_count": 11,
     "metadata": {},
     "output_type": "execute_result"
    }
   ],
   "source": [
    "## Dot product of the 2 arrays\n",
    "np.dot(a_m2n2, b_m2n2)"
   ]
  },
  {
   "cell_type": "markdown",
   "metadata": {},
   "source": [
    "The requirement for matrix multiplication is that the number of columns of the first matrix must be equal to the number of rows of the second matrix."
   ]
  },
  {
   "cell_type": "markdown",
   "metadata": {},
   "source": [
    "Let's try to multiply a 3x2 matrix with a 2x3 matrix."
   ]
  },
  {
   "cell_type": "code",
   "execution_count": 12,
   "metadata": {},
   "outputs": [],
   "source": [
    "## Create 2 numeric NumPy arrays to represent the two 2x2 matrices \n",
    "a_m3n2 = np.random.randint(10, size=(3, 2))\n",
    "b_m2n3 = np.random.randint(10, size=(2, 3))"
   ]
  },
  {
   "cell_type": "code",
   "execution_count": 13,
   "metadata": {},
   "outputs": [
    {
     "name": "stdout",
     "output_type": "stream",
     "text": [
      "[[3 0]\n",
      " [8 6]\n",
      " [0 9]]\n",
      "[[7 5 3]\n",
      " [0 7 0]]\n"
     ]
    }
   ],
   "source": [
    "## Show the representation of the arrays\n",
    "print(a_m3n2, b_m2n3, sep=\"\\n\")"
   ]
  },
  {
   "cell_type": "code",
   "execution_count": 14,
   "metadata": {},
   "outputs": [
    {
     "data": {
      "text/plain": [
       "array([[21, 15,  9],\n",
       "       [56, 82, 24],\n",
       "       [ 0, 63,  0]])"
      ]
     },
     "execution_count": 14,
     "metadata": {},
     "output_type": "execute_result"
    }
   ],
   "source": [
    "## Dot product of the 2 arrays\n",
    "np.dot(a_m3n2, b_m2n3)"
   ]
  },
  {
   "cell_type": "markdown",
   "metadata": {},
   "source": [
    "If the requirement for matrix multiplication is not met, `ValueError` will be raised. Consider the following example: "
   ]
  },
  {
   "cell_type": "code",
   "execution_count": 15,
   "metadata": {},
   "outputs": [
    {
     "name": "stdout",
     "output_type": "stream",
     "text": [
      "[[1 0 3]\n",
      " [1 4 9]\n",
      " [1 7 2]\n",
      " [0 5 0]]\n",
      "[[9 7 3]\n",
      " [4 3 7]\n",
      " [9 7 2]\n",
      " [9 6 2]]\n",
      "Matrix multiplication fails.\n"
     ]
    }
   ],
   "source": [
    "## Both are 3x2 matrices\n",
    "a_m4n3 = np.random.randint(10, size=(4, 3))\n",
    "b_m4n3 = np.random.randint(10, size=(4, 3))\n",
    "print(a_m4n3, b_m4n3, sep=\"\\n\")\n",
    "try: \n",
    "\tprint(np.dot(a_m4n3, b_m4n3))\n",
    "except ValueError: \n",
    "\tprint(\"Matrix multiplication fails.\")"
   ]
  },
  {
   "cell_type": "markdown",
   "metadata": {},
   "source": [
    "Error message: "
   ]
  },
  {
   "cell_type": "markdown",
   "metadata": {},
   "source": [
    "<p align=\"center\">\n",
    "<img src=\"https://user-images.githubusercontent.com/95575665/167895037-2db7def2-9bf9-4776-afbe-96ee5d7fcd4a.png\" alt=\"Basic dot product rules\" width=\"852\" height=\"480\">\n",
    "</p>"
   ]
  },
  {
   "cell_type": "markdown",
   "metadata": {},
   "source": [
    "We have covered basic dot production and matrix multiplication concepts above. These basic operations are the building blocks of complex machine learning and deep learning models. Thus, it is highly important to understand them."
   ]
  },
  {
   "cell_type": "markdown",
   "metadata": {},
   "source": [
    "For more information on `numpy.dot()`, see [the official documentation](https://numpy.org/doc/stable/reference/generated/numpy.dot.html)."
   ]
  }
 ],
 "metadata": {
  "interpreter": {
   "hash": "2011e8f1b66e4ca782a16183c079a9a8ceaa771eb94b3143f514bb5560527e59"
  },
  "kernelspec": {
   "display_name": "Python 3.8.12 ('base')",
   "language": "python",
   "name": "python3"
  },
  "language_info": {
   "codemirror_mode": {
    "name": "ipython",
    "version": 3
   },
   "file_extension": ".py",
   "mimetype": "text/x-python",
   "name": "python",
   "nbconvert_exporter": "python",
   "pygments_lexer": "ipython3",
   "version": "3.8.12"
  },
  "orig_nbformat": 4
 },
 "nbformat": 4,
 "nbformat_minor": 2
}
