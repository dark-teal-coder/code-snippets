{
 "cells": [
  {
   "cell_type": "code",
   "execution_count": 1,
   "metadata": {},
   "outputs": [],
   "source": [
    "# os module provides a portable way of using operating system dependent functionality.\n",
    "import os \n",
    "# sys module provides access to some variables used/maintained by the interpreter & \n",
    "# to functions that interact strongly with it. \n",
    "import sys \n",
    "# time module provides various time-related functions. \n",
    "import time "
   ]
  },
  {
   "cell_type": "markdown",
   "metadata": {},
   "source": [
    "Reference: https://docs.python.org/2/library/os.html"
   ]
  },
  {
   "cell_type": "code",
   "execution_count": 9,
   "metadata": {},
   "outputs": [
    {
     "name": "stdout",
     "output_type": "stream",
     "text": [
      "Please input the path: C:\\Users\\Asus\\WorkspaceJupyter\\New folder\\NonEmptyFolder1\n"
     ]
    }
   ],
   "source": [
    "path = input(\"Please input the path: \")"
   ]
  },
  {
   "cell_type": "code",
   "execution_count": 10,
   "metadata": {},
   "outputs": [
    {
     "data": {
      "text/plain": [
       "['file1.txt', 'file2.txt']"
      ]
     },
     "execution_count": 10,
     "metadata": {},
     "output_type": "execute_result"
    }
   ],
   "source": [
    "# listdir() returns a list containing the names of the entries in the directory given by path parameter\n",
    "os.listdir(path)"
   ]
  },
  {
   "cell_type": "code",
   "execution_count": 3,
   "metadata": {},
   "outputs": [],
   "source": [
    "def remove(path):\n",
    "    \"\"\"\n",
    "    Remove an empty directory or file\n",
    "    \"\"\"\n",
    "    if os.path.isdir(path):\n",
    "        print(path, \"is a directory.\")\n",
    "        try:\n",
    "            os.rmdir(path)\n",
    "            print(\"The empty folder removed.\")\n",
    "        except OSError:\n",
    "            print(\"Unable to remove the folder: {0:s}\".format(path))\n",
    "            # logger.fatal(\"Unable to remove the folder: {0:s}\".format(path), exc_info=True)\n",
    "    else:\n",
    "        print(path, \"is not a directory.\")\n",
    "        try:\n",
    "            if os.path.exists(path):\n",
    "                print(\"The file exists.\")\n",
    "                os.remove(path)\n",
    "                print(\"The file removed.\")\n",
    "        except OSError:\n",
    "            print(\"Unable to remove the file: {0:s}\".format(path))\n",
    "            # logger.fatal(\"Unable to remove the file: {0:s}\".format(path), exc_info=True)"
   ]
  },
  {
   "cell_type": "code",
   "execution_count": 11,
   "metadata": {},
   "outputs": [
    {
     "name": "stdout",
     "output_type": "stream",
     "text": [
      "C:\\Users\\Asus\\WorkspaceJupyter\\New folder\\NonEmptyFolder1 is a directory.\n",
      "Unable to remove the folder: C:\\Users\\Asus\\WorkspaceJupyter\\New folder\\NonEmptyFolder1\n"
     ]
    }
   ],
   "source": [
    "remove(path)"
   ]
  },
  {
   "cell_type": "code",
   "execution_count": 4,
   "metadata": {},
   "outputs": [
    {
     "name": "stdout",
     "output_type": "stream",
     "text": [
      "Command line argument #0: C:\\Users\\Asus\\Anaconda3\\lib\\site-packages\\ipykernel_launcher.py\n",
      "Command line argument #1: -f\n",
      "Command line argument #2: C:\\Users\\Asus\\AppData\\Roaming\\jupyter\\runtime\\kernel-9c944498-a268-4eee-9518-686ce153af0e.json\n"
     ]
    }
   ],
   "source": [
    "# Command line arguments\n",
    "for i in range(len(sys.argv)):\n",
    "    print(\"Command line argument #\", i, \": \", sys.argv[i], sep=\"\")"
   ]
  },
  {
   "cell_type": "code",
   "execution_count": 5,
   "metadata": {},
   "outputs": [],
   "source": [
    "def cleanup(number_of_days, path):\n",
    "    \"\"\"\n",
    "    Removes files from the passed in path that are older than or equal to the number_of_days\n",
    "    \"\"\"\n",
    "    # The time() function returns the number of seconds passed since epoch (the point where time begins). \n",
    "    time_in_secs = time.time() - (number_of_days * 24 * 60 * 60) # time.time() is current time\n",
    "    for root, dirs, files in os.walk(path, topdown=False):\n",
    "        # walk() to walk through the directories\n",
    "        for file in files:\n",
    "            full_path = os.path.join(root, file)\n",
    "            stat = os.stat(full_path)\n",
    " \n",
    "            if stat.st_mtime <= time_in_secs: # stat.st_mtime: time of last modification\n",
    "                remove(full_path)\n",
    " \n",
    "        if not os.listdir(root):\n",
    "            remove(root)"
   ]
  },
  {
   "cell_type": "code",
   "execution_count": null,
   "metadata": {},
   "outputs": [],
   "source": [
    "if __name__ == \"__main__\":\n",
    "    days, path = int(sys.argv[1]), sys.argv[2]\n",
    "    cleanup(days, path)"
   ]
  }
 ],
 "metadata": {
  "kernelspec": {
   "display_name": "Python 3",
   "language": "python",
   "name": "python3"
  },
  "language_info": {
   "codemirror_mode": {
    "name": "ipython",
    "version": 3
   },
   "file_extension": ".py",
   "mimetype": "text/x-python",
   "name": "python",
   "nbconvert_exporter": "python",
   "pygments_lexer": "ipython3",
   "version": "3.7.4"
  }
 },
 "nbformat": 4,
 "nbformat_minor": 2
}
